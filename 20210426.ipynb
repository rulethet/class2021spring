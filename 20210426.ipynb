{
  "nbformat": 4,
  "nbformat_minor": 0,
  "metadata": {
    "colab": {
      "name": "Untitled9.ipynb",
      "provenance": [],
      "authorship_tag": "ABX9TyNtLQ4811ugLZ3m2jd1dOD1",
      "include_colab_link": true
    },
    "kernelspec": {
      "name": "python3",
      "display_name": "Python 3"
    },
    "language_info": {
      "name": "python"
    }
  },
  "cells": [
    {
      "cell_type": "markdown",
      "metadata": {
        "id": "view-in-github",
        "colab_type": "text"
      },
      "source": [
        "<a href=\"https://colab.research.google.com/github/rulethet/class2021spring/blob/main/20210426.ipynb\" target=\"_parent\"><img src=\"https://colab.research.google.com/assets/colab-badge.svg\" alt=\"Open In Colab\"/></a>"
      ]
    },
    {
      "cell_type": "code",
      "metadata": {
        "id": "j5w3kyj3UXXw"
      },
      "source": [
        "%matplotlib inline\n",
        "from matplotlib import pyplot as plt\n",
        "import IPython.display as ipd\n",
        "import numpy as np\n",
        "from scipy.signal import lfilter"
      ],
      "execution_count": 32,
      "outputs": []
    },
    {
      "cell_type": "code",
      "metadata": {
        "id": "9mcD0xUFXso1"
      },
      "source": [
        "def phasor(amp, sr, dur, freq):\n",
        "  t = np.arange(1, sr*dur+1)/sr\n",
        "  theta = t * 2*np.pi * freq\n",
        "  s = np.sin(theta)\n",
        "  return s, theta, t"
      ],
      "execution_count": 33,
      "outputs": []
    },
    {
      "cell_type": "code",
      "metadata": {
        "id": "GvgObQ9sUfjh"
      },
      "source": [
        "amp = 1          \n",
        "sr = 10000       \n",
        "dur = 0.5        \n",
        "freq = 100.0     "
      ],
      "execution_count": 34,
      "outputs": []
    },
    {
      "cell_type": "code",
      "metadata": {
        "colab": {
          "base_uri": "https://localhost:8080/"
        },
        "id": "gCKBmZAqZ_Pa",
        "outputId": "fc3e3f88-cded-4f95-e124-37c4b50a4540"
      },
      "source": [
        "y = phasor(amp, sr, dur, freq)\n",
        "print(y)"
      ],
      "execution_count": 35,
      "outputs": [
        {
          "output_type": "stream",
          "text": [
            "(array([ 6.27905195e-02,  1.25333234e-01,  1.87381315e-01, ...,\n",
            "       -1.25333234e-01, -6.27905195e-02,  1.96438672e-15]), array([6.28318531e-02, 1.25663706e-01, 1.88495559e-01, ...,\n",
            "       3.14033602e+02, 3.14096434e+02, 3.14159265e+02]), array([1.000e-04, 2.000e-04, 3.000e-04, ..., 4.998e-01, 4.999e-01,\n",
            "       5.000e-01]))\n"
          ],
          "name": "stdout"
        }
      ]
    }
  ]
}