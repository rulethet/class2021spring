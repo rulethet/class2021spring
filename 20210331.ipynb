{
  "nbformat": 4,
  "nbformat_minor": 0,
  "metadata": {
    "colab": {
      "name": "20210331.ipynb",
      "provenance": [],
      "authorship_tag": "ABX9TyPpoxFnr36pp30S+WBaPlyX",
      "include_colab_link": true
    },
    "kernelspec": {
      "name": "python3",
      "display_name": "Python 3"
    },
    "language_info": {
      "name": "python"
    }
  },
  "cells": [
    {
      "cell_type": "markdown",
      "metadata": {
        "id": "view-in-github",
        "colab_type": "text"
      },
      "source": [
        "<a href=\"https://colab.research.google.com/github/rulethet/class2021spring/blob/main/20210331.ipynb\" target=\"_parent\"><img src=\"https://colab.research.google.com/assets/colab-badge.svg\" alt=\"Open In Colab\"/></a>"
      ]
    },
    {
      "cell_type": "code",
      "metadata": {
        "id": "9jQ-Qyxy4ftZ"
      },
      "source": [
        "# [a] pitch : 194Hz, intensity : 60.37db, formant : 885.9Hz, 1327Hz, duration : 0.47s\n",
        "\n",
        "# [e] pitch : 192.6Hz, intensity : 60.81db, formant : 582.7Hz, 2250Hz, duration : 0.42s"
      ],
      "execution_count": null,
      "outputs": []
    }
  ]
}