{
  "nbformat": 4,
  "nbformat_minor": 0,
  "metadata": {
    "colab": {
      "name": "20210331.ipynb",
      "provenance": [],
      "authorship_tag": "ABX9TyPBWlAHs6Xtc9RTipBB9NVA",
      "include_colab_link": true
    },
    "kernelspec": {
      "name": "python3",
      "display_name": "Python 3"
    },
    "language_info": {
      "name": "python"
    }
  },
  "cells": [
    {
      "cell_type": "markdown",
      "metadata": {
        "id": "view-in-github",
        "colab_type": "text"
      },
      "source": [
        "<a href=\"https://colab.research.google.com/github/rulethet/class2021spring/blob/main/20210331.ipynb\" target=\"_parent\"><img src=\"https://colab.research.google.com/assets/colab-badge.svg\" alt=\"Open In Colab\"/></a>"
      ]
    },
    {
      "cell_type": "code",
      "metadata": {
        "id": "YVoL1nmG8P2S"
      },
      "source": [
        "# [a] Pitch : 194Hz, Intensity : 60.37db, Formant : 885.9Hz, 1327Hz, Duration : 0.47s\n",
        "\n",
        "# [e] Pitch : 192.6Hz, Intensity : 60.81db, Formant : 582.7Hz, 2250Hz, Duration : 0.42s"
      ],
      "execution_count": null,
      "outputs": []
    }
  ]
}