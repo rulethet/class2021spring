{
  "nbformat": 4,
  "nbformat_minor": 0,
  "metadata": {
    "colab": {
      "name": "Untitled1.ipynb",
      "provenance": [],
      "authorship_tag": "ABX9TyOeah3yz1oyBXd2mbrflZ0t",
      "include_colab_link": true
    },
    "kernelspec": {
      "name": "python3",
      "display_name": "Python 3"
    }
  },
  "cells": [
    {
      "cell_type": "markdown",
      "metadata": {
        "id": "view-in-github",
        "colab_type": "text"
      },
      "source": [
        "<a href=\"https://colab.research.google.com/github/rulethet/class2021spring/blob/main/programming.ipynb\" target=\"_parent\"><img src=\"https://colab.research.google.com/assets/colab-badge.svg\" alt=\"Open In Colab\"/></a>"
      ]
    },
    {
      "cell_type": "code",
      "metadata": {
        "id": "sgQHBfUJqFKV"
      },
      "source": [
        ""
      ],
      "execution_count": null,
      "outputs": []
    },
    {
      "cell_type": "markdown",
      "metadata": {
        "id": "H3Z3Zt0CqF1m"
      },
      "source": [
        "1. program language의 변수\n",
        "\n",
        " 사과(단어) = 사과(내용)        - 사람\n",
        " a(variable,변수) = 1(내용)        - 컴퓨터\n",
        "    ‘=’는 같다는 뜻이 아니다. 오른쪽의 내용을 왼쪽에 assign함. assign표시.\n",
        "     ex ) b = 2, c = 'love'\n",
        "\n",
        "\n",
        "2. program language의 제어문\n",
        " \n",
        " 가. 반복 : for\n",
        " ex) for 100\n",
        "     print(1)\n",
        "\n",
        " 나. 조건 : if\n",
        " ex) a = 1\n",
        "     if a == 2\n",
        "       print(3)        -> 실행 안 함.\n",
        "\n",
        "\n",
        "3. 함수 : 입출력 관계\n",
        "입력과 출력 사이 변화가 있으면 중간에 있는 것이 함수. \n",
        "y = f(x)\n",
        "ax + b\n",
        "\n",
        "function add (a, b)\n",
        " c = a + b \n",
        "\n",
        "a = 1\n",
        "b = 2\n",
        "add(a, b)"
      ]
    }
  ]
}